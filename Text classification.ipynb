{
 "cells": [
  {
   "cell_type": "code",
   "execution_count": 8,
   "metadata": {
    "collapsed": true
   },
   "outputs": [],
   "source": [
    "import nltk"
   ]
  },
  {
   "cell_type": "code",
   "execution_count": 9,
   "metadata": {
    "collapsed": true
   },
   "outputs": [],
   "source": [
    "from nltk.stem.lancaster import LancasterStemmer"
   ]
  },
  {
   "cell_type": "code",
   "execution_count": 10,
   "metadata": {
    "collapsed": true
   },
   "outputs": [],
   "source": [
    "import os"
   ]
  },
  {
   "cell_type": "code",
   "execution_count": 11,
   "metadata": {
    "collapsed": true
   },
   "outputs": [],
   "source": [
    "import json"
   ]
  },
  {
   "cell_type": "code",
   "execution_count": 12,
   "metadata": {
    "collapsed": true
   },
   "outputs": [],
   "source": [
    "import datetime"
   ]
  },
  {
   "cell_type": "code",
   "execution_count": 13,
   "metadata": {
    "collapsed": true
   },
   "outputs": [],
   "source": [
    "import csv"
   ]
  },
  {
   "cell_type": "code",
   "execution_count": 14,
   "metadata": {
    "collapsed": true
   },
   "outputs": [],
   "source": [
    "stemmer=LancasterStemmer()"
   ]
  },
  {
   "cell_type": "code",
   "execution_count": 15,
   "metadata": {},
   "outputs": [
    {
     "data": {
      "text/plain": [
       "'cry'"
      ]
     },
     "execution_count": 15,
     "metadata": {},
     "output_type": "execute_result"
    }
   ],
   "source": [
    "stemmer.stem(\"Crying\")"
   ]
  },
  {
   "cell_type": "code",
   "execution_count": 16,
   "metadata": {},
   "outputs": [
    {
     "name": "stdout",
     "output_type": "stream",
     "text": [
      "120 sentences in training data\n"
     ]
    },
    {
     "data": {
      "text/plain": [
       "dict"
      ]
     },
     "execution_count": 16,
     "metadata": {},
     "output_type": "execute_result"
    }
   ],
   "source": [
    "training_data = []\n",
    "# training_data.append({\"class\":\"greeting\", \"sentence\":\"how are you?\"})\n",
    "# training_data.append({\"class\":\"greeting\", \"sentence\":\"how is your day?\"})\n",
    "# training_data.append({\"class\":\"greeting\", \"sentence\":\"good day\"})\n",
    "# training_data.append({\"class\":\"greeting\", \"sentence\":\"how is it going today?\"})\n",
    "\n",
    "# training_data.append({\"class\":\"goodbye\", \"sentence\":\"have a nice day\"})\n",
    "# training_data.append({\"class\":\"goodbye\", \"sentence\":\"see you later\"})\n",
    "# training_data.append({\"class\":\"goodbye\", \"sentence\":\"have a nice day\"})\n",
    "# training_data.append({\"class\":\"goodbye\", \"sentence\":\"talk to you soon\"})\n",
    "\n",
    "# training_data.append({\"class\":\"sandwich\", \"sentence\":\"make me a sandwich\"})\n",
    "# training_data.append({\"class\":\"sandwich\", \"sentence\":\"can you make a sandwich?\"})\n",
    "# training_data.append({\"class\":\"sandwich\", \"sentence\":\"having a sandwich today?\"})\n",
    "# training_data.append({\"class\":\"sandwich\", \"sentence\":\"what's for lunch?\"})\n",
    "\n",
    "with open('Disease Categorization.csv', 'r') as f:\n",
    "    training_data = []\n",
    "#     a = [{ 'class': str(k) for k in row.items(), 'sentence': str(v) for v in row.items()}\n",
    "#             for row in csv.DictReader(f, skipinitialspace=True)]\n",
    "    for row in csv.DictReader(f,skipinitialspace=True):\n",
    "        for k in row.items():\n",
    "#             print(k[0])\n",
    "#             print(k[1])\n",
    "            training_data.append({\"class\": k[0], \"sentence\": k[1]}) \n",
    "\n",
    "print (\"%s sentences in training data\" % len(training_data))\n",
    "type(training_data[0])"
   ]
  },
  {
   "cell_type": "code",
   "execution_count": 17,
   "metadata": {},
   "outputs": [
    {
     "data": {
      "text/plain": [
       "[{'class': 'Viral Fever', 'sentence': 'Feel Weak'},\n",
       " {'class': 'Diarrhoea', 'sentence': 'dehydration'},\n",
       " {'class': 'Stomach Infections', 'sentence': 'Feel Pain'},\n",
       " {'class': 'Typhoid',\n",
       "  'sentence': 'High fever.a high temperature, which can reach up to 39-40C, headache, muscle aches, stomach pain, feeling sick,loss of appetite,'},\n",
       " {'class': 'Jaundice', 'sentence': 'fever, pale stools, dark urine'},\n",
       " {'class': 'Viral Fever',\n",
       "  'sentence': 'fatigue, fever, dizziness ,muscle aches'},\n",
       " {'class': 'Diarrhoea',\n",
       "  'sentence': 'stomach pain,abdominal cramps,bloating,thirst\\n,weight loss,fever'},\n",
       " {'class': 'Stomach Infections',\n",
       "  'sentence': 'Nausea or recurrent upset stomach , Abdominal bloating, Abdominal pain, Vomiting,Indigestion ,Burning or gnawing feeling in the stomach between meals or at night ,Hiccups ,Loss of appetite ,Vomiting blood or coffee ground-like material ,Black tarry stools'},\n",
       " {'class': 'Typhoid',\n",
       "  'sentence': 'weakness, abdominal pain, constipation,headaches'},\n",
       " {'class': 'Jaundice',\n",
       "  'sentence': 'a yellow tinge to the skin and the whites of the eyes, normally starting at the 2.head and spreading down the body, pale stools, dark urine, itchiness,fatigue ,abdominal pain ,weight loss ,vomiting, fever\\npale stools,dark urine'},\n",
       " {'class': 'Viral Fever', 'sentence': 'high temperature, pain'},\n",
       " {'class': 'Diarrhoea', 'sentence': 'dehydration, loose motion '},\n",
       " {'class': 'Stomach Infections', 'sentence': 'stomach pain'},\n",
       " {'class': 'Typhoid', 'sentence': 'continuous fever'},\n",
       " {'class': 'Jaundice', 'sentence': 'yellow eyes'},\n",
       " {'class': 'Viral Fever',\n",
       "  'sentence': 'Fever,  Rash, headache, neck rigidity, joint pain, body ache..\\n'},\n",
       " {'class': 'Diarrhoea',\n",
       "  'sentence': 'Passage of loose stool more than 3times/day, dehydration.'},\n",
       " {'class': 'Stomach Infections',\n",
       "  'sentence': 'Vomiting, diarrhoea, stool mixed with mucous and blood, general weakness, stomach pain (may or may not be)'},\n",
       " {'class': 'Typhoid',\n",
       "  'sentence': 'Fever (step-ladder fashion), Diarrhoea (pea-soup stool), pink or reddish rash on abdomen, bloody stool, body ache.'},\n",
       " {'class': 'Jaundice',\n",
       "  'sentence': 'Yellowish colouration of skin, upper pulpebral conjunctiva, tongue (ventral surface), hand (palm and creases), nail bed, sole.. may be associated with generalized itching on body, yellowish urine or dark/pale frothy stool.'},\n",
       " {'class': 'Viral Fever',\n",
       "  'sentence': 'Throught infection, neck pain,back bone pain,digestive problem.'},\n",
       " {'class': 'Diarrhoea', 'sentence': 'Weakness'},\n",
       " {'class': 'Stomach Infections', 'sentence': 'Vomitings,motions'},\n",
       " {'class': 'Typhoid',\n",
       "  'sentence': 'Neck pain,urine infection, body pains,digestive problem.'},\n",
       " {'class': 'Jaundice', 'sentence': 'Hating food.'},\n",
       " {'class': 'Viral Fever',\n",
       "  'sentence': 'continuous fever\\nbone & joint pain\\nmuscle pain\\nfatigue\\n'},\n",
       " {'class': 'Diarrhoea',\n",
       "  'sentence': 'loose watery stool more than 3 times a day\\nabdominal cramps'},\n",
       " {'class': 'Stomach Infections',\n",
       "  'sentence': 'pain\\nabdominal cramps\\nabdominal distension\\nburning sensetion\\ndiarrhoea, constipation'},\n",
       " {'class': 'Typhoid',\n",
       "  'sentence': 'fever in step ladder pattern\\nrose red spots on abdomen\\nrash\\ndiarrhoea, nausea, vomiting '},\n",
       " {'class': 'Jaundice',\n",
       "  'sentence': 'yellowish discolouration of conjunctiva, tongue, palm & sole\\ndark yellow colour urine\\nride sided pain in abdomen'},\n",
       " {'class': 'Viral Fever',\n",
       "  'sentence': 'runny nose, sore throat, cough, hoarseness,muscle aches'},\n",
       " {'class': 'Diarrhoea',\n",
       "  'sentence': 'bdominal cramps,abdominal pains,urgency to go to the toilet,frequent passing of loose, watery faeces, nausea. vomiting'},\n",
       " {'class': 'Stomach Infections',\n",
       "  'sentence': 'Diarrhoea, cramps, nausea, vomiting and low-grade fever '},\n",
       " {'class': 'Typhoid',\n",
       "  'sentence': 'high fever, headache, stomach pain, weakness, vomiting and loose stools.'},\n",
       " {'class': 'Jaundice',\n",
       "  'sentence': 'fatigue, abdominal pain, weight loss, Vomiting, Fever,pale stools,dark urine'},\n",
       " {'class': 'Viral Fever',\n",
       "  'sentence': 'body temperature increases, cold feeling , weakness, losing appetite '},\n",
       " {'class': 'Diarrhoea',\n",
       "  'sentence': 'stomach pain,liquid poop, nausea,vomiting.'},\n",
       " {'class': 'Stomach Infections',\n",
       "  'sentence': 'stomach pain, bloody diarrhoea, low fever'},\n",
       " {'class': 'Typhoid',\n",
       "  'sentence': 'high fever, pain in the joints, too much weakness, low blood pressure'},\n",
       " {'class': 'Jaundice',\n",
       "  'sentence': 'fever, vomit, pain in the stomach, yellow eyes, dark urine'},\n",
       " {'class': 'Viral Fever',\n",
       "  'sentence': 'headache,body pain,loss of appetite  etc'},\n",
       " {'class': 'Diarrhoea', 'sentence': 'stomach ache,vomiting,dehydration etc'},\n",
       " {'class': 'Stomach Infections',\n",
       "  'sentence': 'stomach ache,vomiting,diarrhoea etc'},\n",
       " {'class': 'Typhoid',\n",
       "  'sentence': 'confusion, stomach pain, constipation , fever'},\n",
       " {'class': 'Jaundice',\n",
       "  'sentence': 'Weight loss,  Swelling of legs, Swelling of abdomen owing to accumulation of fluid, Nausea, Rectal bleeding, Headache'},\n",
       " {'class': 'Viral Fever', 'sentence': 'High temperature\\ncold with sneezing'},\n",
       " {'class': 'Diarrhoea',\n",
       "  'sentence': 'Becomes weak, Using toilets more than very usual, Lack of water in body'},\n",
       " {'class': 'Stomach Infections',\n",
       "  'sentence': 'Cant eat any spicy food, stomach ache, Cant Digest food easily'},\n",
       " {'class': 'Typhoid',\n",
       "  'sentence': 'High temperature fever, Long time fever, vomiting'},\n",
       " {'class': 'Jaundice',\n",
       "  'sentence': 'vomiting\\neyes become yellow from normal white\\ncat eat normal food because of bad smell\\nUrine becomes yellow from water colour'},\n",
       " {'class': 'Viral Fever', 'sentence': 'Headache'},\n",
       " {'class': 'Diarrhoea', 'sentence': 'Dehydration'},\n",
       " {'class': 'Stomach Infections', 'sentence': 'Gastroenteritis'},\n",
       " {'class': 'Typhoid', 'sentence': 'Severe fever'},\n",
       " {'class': 'Jaundice', 'sentence': 'Eye discoloration'},\n",
       " {'class': 'Viral Fever', 'sentence': 'pyrexia,headache,malaise'},\n",
       " {'class': 'Diarrhoea',\n",
       "  'sentence': 'loose stool, abdominal discomfort, abdominal pain'},\n",
       " {'class': 'Stomach Infections',\n",
       "  'sentence': 'abdominal pain,vomiting,diarrhoea,acidity,sometimes pyrexia'},\n",
       " {'class': 'Typhoid', 'sentence': 'pyrexia,diarrhoea,abdominal pain,headache'},\n",
       " {'class': 'Jaundice',\n",
       "  'sentence': 'yellow discolouration of skin and mucuous membrane,pyrexia,constipation,tender hepatomegaly,diarrhoea,malaise'},\n",
       " {'class': 'Viral Fever', 'sentence': 'High grade fever,common cold,nausea'},\n",
       " {'class': 'Diarrhoea',\n",
       "  'sentence': 'Passing of loose watery stool more than 3 times per day,dehydration,lethargy'},\n",
       " {'class': 'Stomach Infections',\n",
       "  'sentence': 'diarrhoea,vomitting,sometimes low grade fever,stomach cramp'},\n",
       " {'class': 'Typhoid',\n",
       "  'sentence': 'High grade fever more than 14 days,abdominal discomfort,rash'},\n",
       " {'class': 'Jaundice',\n",
       "  'sentence': 'Yellowish discolouration of skin sclera mucous membrane,abdominal discomfort,weakness'},\n",
       " {'class': 'Viral Fever', 'sentence': 'Body pain '},\n",
       " {'class': 'Diarrhoea', 'sentence': 'Weakness '},\n",
       " {'class': 'Stomach Infections', 'sentence': 'Belly pain '},\n",
       " {'class': 'Typhoid', 'sentence': 'Weakness and fever'},\n",
       " {'class': 'Jaundice', 'sentence': \"Can't eat anything \"},\n",
       " {'class': 'Viral Fever',\n",
       "  'sentence': 'Runny nose, sore throat, cough, hoarseness, and muscle aches.'},\n",
       " {'class': 'Diarrhoea', 'sentence': 'Frequent watery defication'},\n",
       " {'class': 'Stomach Infections', 'sentence': 'Acidity'},\n",
       " {'class': 'Typhoid', 'sentence': 'High fever'},\n",
       " {'class': 'Jaundice',\n",
       "  'sentence': 'Yellowish discoloration of skin and mucous membrane'},\n",
       " {'class': 'Viral Fever',\n",
       "  'sentence': 'Severe pain in the joints, vomiting, rash '},\n",
       " {'class': 'Diarrhoea',\n",
       "  'sentence': 'Abdominal pain, cramps ; nausea, vomiting ,passing of loose watery stool '},\n",
       " {'class': 'Stomach Infections',\n",
       "  'sentence': 'Loss of appetite, vomiting, nausea, diarrhoea ,abdominal cramps, pain '},\n",
       " {'class': 'Typhoid', 'sentence': 'Fever, rash , weakness'},\n",
       " {'class': 'Jaundice',\n",
       "  'sentence': 'Yellow skin & mucous membrane, dark urin , itchiness '},\n",
       " {'class': 'Viral Fever',\n",
       "  'sentence': 'Severe joint pain, Vomiting, Nasal congestion, Cough, Headache, Skin rashes, Diarrhea'},\n",
       " {'class': 'Diarrhoea',\n",
       "  'sentence': 'Abdominal pain, cramping, Change in colour of stools, Vomiting, body weakness and tiredness,Urgent need to go to the toilet'},\n",
       " {'class': 'Stomach Infections',\n",
       "  'sentence': 'Nausea,  vomiting,  muscle aches, headache,Low-grade fever ,usually nonbloody diarrhea'},\n",
       " {'class': 'Typhoid',\n",
       "  'sentence': 'weakness, abdominal pain, constipation, headaches'},\n",
       " {'class': 'Jaundice',\n",
       "  'sentence': 'pale stools, dark urine, itchiness,weight loss, fever,yellow tinge to the skin and the whites of the eyes'},\n",
       " {'class': 'Viral Fever',\n",
       "  'sentence': 'running nose, fatigue, dizziness, weakness, chills,body and joint pains'},\n",
       " {'class': 'Diarrhoea',\n",
       "  'sentence': 'abdominal cramps, abdominal pains, urgency to go to the toilet,  loose faeces, watery faeces'},\n",
       " {'class': 'Stomach Infections',\n",
       "  'sentence': 'loss of appetite, nausea and vomiting , diarrhea, blood in stools, fever'},\n",
       " {'class': 'Typhoid',\n",
       "  'sentence': 'Poor appetite, Generalized aches, High fever, Lethargy'},\n",
       " {'class': 'Jaundice',\n",
       "  'sentence': 'yellow discoloration of the skin, light-colored stools, itching of the skin. dark-colored urine'},\n",
       " {'class': 'Viral Fever',\n",
       "  'sentence': 'very high fever, fever for a long period, rashes, swelling on the face, pain in joints'},\n",
       " {'class': 'Diarrhoea',\n",
       "  'sentence': 'stomach pain, abdominal cramps, bloating, thirst, weight loss'},\n",
       " {'class': 'Stomach Infections',\n",
       "  'sentence': 'non-bloody diarrhea, watery diarrhea, nausea, dehydration, dry skin, dry mouth'},\n",
       " {'class': 'Typhoid',\n",
       "  'sentence': 'confusion, constipation, rash, poor appetite, stomach pain, high fever, weakness'},\n",
       " {'class': 'Jaundice',\n",
       "  'sentence': 'Yellow Pigmentation, Pale Stool, Dark Urine, Itching, Liver flukes'},\n",
       " {'class': 'Viral Fever', 'sentence': 'Warm temperature'},\n",
       " {'class': 'Diarrhoea', 'sentence': 'Excess water loss'},\n",
       " {'class': 'Stomach Infections', 'sentence': 'Abdomen pain'},\n",
       " {'class': 'Typhoid', 'sentence': 'Warm temperature but low pulse'},\n",
       " {'class': 'Jaundice',\n",
       "  'sentence': 'Yellow discolorization of mucous memebrane'},\n",
       " {'class': 'Viral Fever', 'sentence': 'Warm temperature'},\n",
       " {'class': 'Diarrhoea', 'sentence': 'Excess water loss'},\n",
       " {'class': 'Stomach Infections', 'sentence': 'Abdomen pain'},\n",
       " {'class': 'Typhoid', 'sentence': 'Warm temperature but low pulse'},\n",
       " {'class': 'Jaundice', 'sentence': 'Yellow discoloration of mucous membrane'},\n",
       " {'class': 'Viral Fever',\n",
       "  'sentence': 'rise in body temperature, weakness, loss of taste'},\n",
       " {'class': 'Diarrhoea',\n",
       "  'sentence': 'nausea, vomiting, loss of appetite, headache'},\n",
       " {'class': 'Stomach Infections',\n",
       "  'sentence': ' repeated bouts of diarrhoea, high temperature, stomach cramps,'},\n",
       " {'class': 'Typhoid',\n",
       "  'sentence': 'a high temperature, muscle aches, constipation, rash, exhaustion'},\n",
       " {'class': 'Jaundice',\n",
       "  'sentence': 'Pale coloured stool, Skin itching, Dark coloured urine. Fever and chills'},\n",
       " {'class': 'Viral Fever',\n",
       "  'sentence': 'swelling of the face,feel very lethargic, nauseated'},\n",
       " {'class': 'Diarrhoea',\n",
       "  'sentence': 'Loose watery stools, Abdominal cramps, Bloating, Blood in the stool'},\n",
       " {'class': 'Stomach Infections',\n",
       "  'sentence': 'Nausea and vomiting,  Mild fever and chills, Incontinence, Headache'},\n",
       " {'class': 'Typhoid',\n",
       "  'sentence': 'confusion, stomach pain, constipation , fever'},\n",
       " {'class': 'Jaundice',\n",
       "  'sentence': 'Weight loss,  Swelling of legs, Swelling of abdomen owing to accumulation of fluid, Nausea, Rectal bleeding, Headache'},\n",
       " {'class': 'Viral Fever',\n",
       "  'sentence': ' body temperature, pain in the joints ,  pain in the stomach'},\n",
       " {'class': 'Diarrhoea',\n",
       "  'sentence': 'Frequent loose stools, Bleeding, Lightheadedness, dizziness'},\n",
       " {'class': 'Stomach Infections',\n",
       "  'sentence': 'body weakness, Burring feeling in the stomach, Indigestion, stool mixed with mucous'},\n",
       " {'class': 'Typhoid',\n",
       "  'sentence': 'reddish rash, urine infection, High temperature, pyrexia'},\n",
       " {'class': 'Jaundice',\n",
       "  'sentence': 'yellowish discoloration tongue, yellow colour urine, vomit'}]"
      ]
     },
     "execution_count": 17,
     "metadata": {},
     "output_type": "execute_result"
    }
   ],
   "source": [
    "training_data"
   ]
  },
  {
   "cell_type": "code",
   "execution_count": 18,
   "metadata": {
    "collapsed": true
   },
   "outputs": [],
   "source": [
    "words=[]\n",
    "classes=[]\n",
    "documents=[]\n",
    "ignore_words=['?']"
   ]
  },
  {
   "cell_type": "code",
   "execution_count": 19,
   "metadata": {},
   "outputs": [
    {
     "name": "stdout",
     "output_type": "stream",
     "text": [
      "[nltk_data] Error loading punkt: <urlopen error [Errno 11001]\n",
      "[nltk_data]     getaddrinfo failed>\n"
     ]
    },
    {
     "data": {
      "text/plain": [
       "False"
      ]
     },
     "execution_count": 19,
     "metadata": {},
     "output_type": "execute_result"
    }
   ],
   "source": [
    "nltk.download('punkt')"
   ]
  },
  {
   "cell_type": "code",
   "execution_count": 20,
   "metadata": {},
   "outputs": [
    {
     "name": "stdout",
     "output_type": "stream",
     "text": [
      "['Feel', 'Weak', 'dehydration', 'Feel', 'Pain', 'High', 'fever.a', 'high', 'temperature', ',', 'which', 'can', 'reach', 'up', 'to', '39-40C', ',', 'headache', ',', 'muscle', 'aches', ',', 'stomach', 'pain', ',', 'feeling', 'sick', ',', 'loss', 'of', 'appetite', ',', 'fever', ',', 'pale', 'stools', ',', 'dark', 'urine', 'fatigue', ',', 'fever', ',', 'dizziness', ',', 'muscle', 'aches', 'stomach', 'pain', ',', 'abdominal', 'cramps', ',', 'bloating', ',', 'thirst', ',', 'weight', 'loss', ',', 'fever', 'Nausea', 'or', 'recurrent', 'upset', 'stomach', ',', 'Abdominal', 'bloating', ',', 'Abdominal', 'pain', ',', 'Vomiting', ',', 'Indigestion', ',', 'Burning', 'or', 'gnawing', 'feeling', 'in', 'the', 'stomach', 'between', 'meals', 'or', 'at', 'night', ',', 'Hiccups', ',', 'Loss', 'of', 'appetite', ',', 'Vomiting', 'blood', 'or', 'coffee', 'ground-like', 'material', ',', 'Black', 'tarry', 'stools', 'weakness', ',', 'abdominal', 'pain', ',', 'constipation', ',', 'headaches', 'a', 'yellow', 'tinge', 'to', 'the', 'skin', 'and', 'the', 'whites', 'of', 'the', 'eyes', ',', 'normally', 'starting', 'at', 'the', '2.head', 'and', 'spreading', 'down', 'the', 'body', ',', 'pale', 'stools', ',', 'dark', 'urine', ',', 'itchiness', ',', 'fatigue', ',', 'abdominal', 'pain', ',', 'weight', 'loss', ',', 'vomiting', ',', 'fever', 'pale', 'stools', ',', 'dark', 'urine', 'high', 'temperature', ',', 'pain', 'dehydration', ',', 'loose', 'motion', 'stomach', 'pain', 'continuous', 'fever', 'yellow', 'eyes', 'Fever', ',', 'Rash', ',', 'headache', ',', 'neck', 'rigidity', ',', 'joint', 'pain', ',', 'body', 'ache..', 'Passage', 'of', 'loose', 'stool', 'more', 'than', '3times/day', ',', 'dehydration', '.', 'Vomiting', ',', 'diarrhoea', ',', 'stool', 'mixed', 'with', 'mucous', 'and', 'blood', ',', 'general', 'weakness', ',', 'stomach', 'pain', '(', 'may', 'or', 'may', 'not', 'be', ')', 'Fever', '(', 'step-ladder', 'fashion', ')', ',', 'Diarrhoea', '(', 'pea-soup', 'stool', ')', ',', 'pink', 'or', 'reddish', 'rash', 'on', 'abdomen', ',', 'bloody', 'stool', ',', 'body', 'ache', '.', 'Yellowish', 'colouration', 'of', 'skin', ',', 'upper', 'pulpebral', 'conjunctiva', ',', 'tongue', '(', 'ventral', 'surface', ')', ',', 'hand', '(', 'palm', 'and', 'creases', ')', ',', 'nail', 'bed', ',', 'sole..', 'may', 'be', 'associated', 'with', 'generalized', 'itching', 'on', 'body', ',', 'yellowish', 'urine', 'or', 'dark/pale', 'frothy', 'stool', '.', 'Throught', 'infection', ',', 'neck', 'pain', ',', 'back', 'bone', 'pain', ',', 'digestive', 'problem', '.', 'Weakness', 'Vomitings', ',', 'motions', 'Neck', 'pain', ',', 'urine', 'infection', ',', 'body', 'pains', ',', 'digestive', 'problem', '.', 'Hating', 'food', '.', 'continuous', 'fever', 'bone', '&', 'joint', 'pain', 'muscle', 'pain', 'fatigue', 'loose', 'watery', 'stool', 'more', 'than', '3', 'times', 'a', 'day', 'abdominal', 'cramps', 'pain', 'abdominal', 'cramps', 'abdominal', 'distension', 'burning', 'sensetion', 'diarrhoea', ',', 'constipation', 'fever', 'in', 'step', 'ladder', 'pattern', 'rose', 'red', 'spots', 'on', 'abdomen', 'rash', 'diarrhoea', ',', 'nausea', ',', 'vomiting', 'yellowish', 'discolouration', 'of', 'conjunctiva', ',', 'tongue', ',', 'palm', '&', 'sole', 'dark', 'yellow', 'colour', 'urine', 'ride', 'sided', 'pain', 'in', 'abdomen', 'runny', 'nose', ',', 'sore', 'throat', ',', 'cough', ',', 'hoarseness', ',', 'muscle', 'aches', 'bdominal', 'cramps', ',', 'abdominal', 'pains', ',', 'urgency', 'to', 'go', 'to', 'the', 'toilet', ',', 'frequent', 'passing', 'of', 'loose', ',', 'watery', 'faeces', ',', 'nausea', '.', 'vomiting', 'Diarrhoea', ',', 'cramps', ',', 'nausea', ',', 'vomiting', 'and', 'low-grade', 'fever', 'high', 'fever', ',', 'headache', ',', 'stomach', 'pain', ',', 'weakness', ',', 'vomiting', 'and', 'loose', 'stools', '.', 'fatigue', ',', 'abdominal', 'pain', ',', 'weight', 'loss', ',', 'Vomiting', ',', 'Fever', ',', 'pale', 'stools', ',', 'dark', 'urine', 'body', 'temperature', 'increases', ',', 'cold', 'feeling', ',', 'weakness', ',', 'losing', 'appetite', 'stomach', 'pain', ',', 'liquid', 'poop', ',', 'nausea', ',', 'vomiting', '.', 'stomach', 'pain', ',', 'bloody', 'diarrhoea', ',', 'low', 'fever', 'high', 'fever', ',', 'pain', 'in', 'the', 'joints', ',', 'too', 'much', 'weakness', ',', 'low', 'blood', 'pressure', 'fever', ',', 'vomit', ',', 'pain', 'in', 'the', 'stomach', ',', 'yellow', 'eyes', ',', 'dark', 'urine', 'headache', ',', 'body', 'pain', ',', 'loss', 'of', 'appetite', 'etc', 'stomach', 'ache', ',', 'vomiting', ',', 'dehydration', 'etc', 'stomach', 'ache', ',', 'vomiting', ',', 'diarrhoea', 'etc', 'confusion', ',', 'stomach', 'pain', ',', 'constipation', ',', 'fever', 'Weight', 'loss', ',', 'Swelling', 'of', 'legs', ',', 'Swelling', 'of', 'abdomen', 'owing', 'to', 'accumulation', 'of', 'fluid', ',', 'Nausea', ',', 'Rectal', 'bleeding', ',', 'Headache', 'High', 'temperature', 'cold', 'with', 'sneezing', 'Becomes', 'weak', ',', 'Using', 'toilets', 'more', 'than', 'very', 'usual', ',', 'Lack', 'of', 'water', 'in', 'body', 'Cant', 'eat', 'any', 'spicy', 'food', ',', 'stomach', 'ache', ',', 'Cant', 'Digest', 'food', 'easily', 'High', 'temperature', 'fever', ',', 'Long', 'time', 'fever', ',', 'vomiting', 'vomiting', 'eyes', 'become', 'yellow', 'from', 'normal', 'white', 'cat', 'eat', 'normal', 'food', 'because', 'of', 'bad', 'smell', 'Urine', 'becomes', 'yellow', 'from', 'water', 'colour', 'Headache', 'Dehydration', 'Gastroenteritis', 'Severe', 'fever', 'Eye', 'discoloration', 'pyrexia', ',', 'headache', ',', 'malaise', 'loose', 'stool', ',', 'abdominal', 'discomfort', ',', 'abdominal', 'pain', 'abdominal', 'pain', ',', 'vomiting', ',', 'diarrhoea', ',', 'acidity', ',', 'sometimes', 'pyrexia', 'pyrexia', ',', 'diarrhoea', ',', 'abdominal', 'pain', ',', 'headache', 'yellow', 'discolouration', 'of', 'skin', 'and', 'mucuous', 'membrane', ',', 'pyrexia', ',', 'constipation', ',', 'tender', 'hepatomegaly', ',', 'diarrhoea', ',', 'malaise', 'High', 'grade', 'fever', ',', 'common', 'cold', ',', 'nausea', 'Passing', 'of', 'loose', 'watery', 'stool', 'more', 'than', '3', 'times', 'per', 'day', ',', 'dehydration', ',', 'lethargy', 'diarrhoea', ',', 'vomitting', ',', 'sometimes', 'low', 'grade', 'fever', ',', 'stomach', 'cramp', 'High', 'grade', 'fever', 'more', 'than', '14', 'days', ',', 'abdominal', 'discomfort', ',', 'rash', 'Yellowish', 'discolouration', 'of', 'skin', 'sclera', 'mucous', 'membrane', ',', 'abdominal', 'discomfort', ',', 'weakness', 'Body', 'pain', 'Weakness', 'Belly', 'pain', 'Weakness', 'and', 'fever', 'Ca', \"n't\", 'eat', 'anything', 'Runny', 'nose', ',', 'sore', 'throat', ',', 'cough', ',', 'hoarseness', ',', 'and', 'muscle', 'aches', '.', 'Frequent', 'watery', 'defication', 'Acidity', 'High', 'fever', 'Yellowish', 'discoloration', 'of', 'skin', 'and', 'mucous', 'membrane', 'Severe', 'pain', 'in', 'the', 'joints', ',', 'vomiting', ',', 'rash', 'Abdominal', 'pain', ',', 'cramps', ';', 'nausea', ',', 'vomiting', ',', 'passing', 'of', 'loose', 'watery', 'stool', 'Loss', 'of', 'appetite', ',', 'vomiting', ',', 'nausea', ',', 'diarrhoea', ',', 'abdominal', 'cramps', ',', 'pain', 'Fever', ',', 'rash', ',', 'weakness', 'Yellow', 'skin', '&', 'mucous', 'membrane', ',', 'dark', 'urin', ',', 'itchiness', 'Severe', 'joint', 'pain', ',', 'Vomiting', ',', 'Nasal', 'congestion', ',', 'Cough', ',', 'Headache', ',', 'Skin', 'rashes', ',', 'Diarrhea', 'Abdominal', 'pain', ',', 'cramping', ',', 'Change', 'in', 'colour', 'of', 'stools', ',', 'Vomiting', ',', 'body', 'weakness', 'and', 'tiredness', ',', 'Urgent', 'need', 'to', 'go', 'to', 'the', 'toilet', 'Nausea', ',', 'vomiting', ',', 'muscle', 'aches', ',', 'headache', ',', 'Low-grade', 'fever', ',', 'usually', 'nonbloody', 'diarrhea', 'weakness', ',', 'abdominal', 'pain', ',', 'constipation', ',', 'headaches', 'pale', 'stools', ',', 'dark', 'urine', ',', 'itchiness', ',', 'weight', 'loss', ',', 'fever', ',', 'yellow', 'tinge', 'to', 'the', 'skin', 'and', 'the', 'whites', 'of', 'the', 'eyes', 'running', 'nose', ',', 'fatigue', ',', 'dizziness', ',', 'weakness', ',', 'chills', ',', 'body', 'and', 'joint', 'pains', 'abdominal', 'cramps', ',', 'abdominal', 'pains', ',', 'urgency', 'to', 'go', 'to', 'the', 'toilet', ',', 'loose', 'faeces', ',', 'watery', 'faeces', 'loss', 'of', 'appetite', ',', 'nausea', 'and', 'vomiting', ',', 'diarrhea', ',', 'blood', 'in', 'stools', ',', 'fever', 'Poor', 'appetite', ',', 'Generalized', 'aches', ',', 'High', 'fever', ',', 'Lethargy', 'yellow', 'discoloration', 'of', 'the', 'skin', ',', 'light-colored', 'stools', ',', 'itching', 'of', 'the', 'skin', '.', 'dark-colored', 'urine', 'very', 'high', 'fever', ',', 'fever', 'for', 'a', 'long', 'period', ',', 'rashes', ',', 'swelling', 'on', 'the', 'face', ',', 'pain', 'in', 'joints', 'stomach', 'pain', ',', 'abdominal', 'cramps', ',', 'bloating', ',', 'thirst', ',', 'weight', 'loss', 'non-bloody', 'diarrhea', ',', 'watery', 'diarrhea', ',', 'nausea', ',', 'dehydration', ',', 'dry', 'skin', ',', 'dry', 'mouth', 'confusion', ',', 'constipation', ',', 'rash', ',', 'poor', 'appetite', ',', 'stomach', 'pain', ',', 'high', 'fever', ',', 'weakness', 'Yellow', 'Pigmentation', ',', 'Pale', 'Stool', ',', 'Dark', 'Urine', ',', 'Itching', ',', 'Liver', 'flukes', 'Warm', 'temperature', 'Excess', 'water', 'loss', 'Abdomen', 'pain', 'Warm', 'temperature', 'but', 'low', 'pulse', 'Yellow', 'discolorization', 'of', 'mucous', 'memebrane', 'Warm', 'temperature', 'Excess', 'water', 'loss', 'Abdomen', 'pain', 'Warm', 'temperature', 'but', 'low', 'pulse', 'Yellow', 'discoloration', 'of', 'mucous', 'membrane', 'rise', 'in', 'body', 'temperature', ',', 'weakness', ',', 'loss', 'of', 'taste', 'nausea', ',', 'vomiting', ',', 'loss', 'of', 'appetite', ',', 'headache', 'repeated', 'bouts', 'of', 'diarrhoea', ',', 'high', 'temperature', ',', 'stomach', 'cramps', ',', 'a', 'high', 'temperature', ',', 'muscle', 'aches', ',', 'constipation', ',', 'rash', ',', 'exhaustion', 'Pale', 'coloured', 'stool', ',', 'Skin', 'itching', ',', 'Dark', 'coloured', 'urine', '.', 'Fever', 'and', 'chills', 'swelling', 'of', 'the', 'face', ',', 'feel', 'very', 'lethargic', ',', 'nauseated', 'Loose', 'watery', 'stools', ',', 'Abdominal', 'cramps', ',', 'Bloating', ',', 'Blood', 'in', 'the', 'stool', 'Nausea', 'and', 'vomiting', ',', 'Mild', 'fever', 'and', 'chills', ',', 'Incontinence', ',', 'Headache', 'confusion', ',', 'stomach', 'pain', ',', 'constipation', ',', 'fever', 'Weight', 'loss', ',', 'Swelling', 'of', 'legs', ',', 'Swelling', 'of', 'abdomen', 'owing', 'to', 'accumulation', 'of', 'fluid', ',', 'Nausea', ',', 'Rectal', 'bleeding', ',', 'Headache', 'body', 'temperature', ',', 'pain', 'in', 'the', 'joints', ',', 'pain', 'in', 'the', 'stomach', 'Frequent', 'loose', 'stools', ',', 'Bleeding', ',', 'Lightheadedness', ',', 'dizziness', 'body', 'weakness', ',', 'Burring', 'feeling', 'in', 'the', 'stomach', ',', 'Indigestion', ',', 'stool', 'mixed', 'with', 'mucous', 'reddish', 'rash', ',', 'urine', 'infection', ',', 'High', 'temperature', ',', 'pyrexia', 'yellowish', 'discoloration', 'tongue', ',', 'yellow', 'colour', 'urine', ',', 'vomit']\n"
     ]
    }
   ],
   "source": [
    "\n",
    "for pattern in training_data:\n",
    "    #print(pattern)\n",
    "    w=nltk.word_tokenize(pattern['sentence'])\n",
    "    #print(w)\n",
    "    words.extend(w)\n",
    "    #print(words)\n",
    "    documents.append((w,pattern['class']))\n",
    "    #print(w,pattern['class'])\n",
    "    \n",
    "    if pattern['class'] not in classes:\n",
    "        classes.append(pattern['class'])\n",
    "print(words)        "
   ]
  },
  {
   "cell_type": "code",
   "execution_count": 21,
   "metadata": {},
   "outputs": [
    {
     "name": "stdout",
     "output_type": "stream",
     "text": [
      "['feel', 'weak', 'dehydr', 'feel', 'pain', 'high', 'fever.a', 'high', 'temp', ',', 'which', 'can', 'reach', 'up', 'to', '39-40c', ',', 'headach', ',', 'musc', 'ach', ',', 'stomach', 'pain', ',', 'feel', 'sick', ',', 'loss', 'of', 'appetit', ',', 'fev', ',', 'pal', 'stool', ',', 'dark', 'urin', 'fatigu', ',', 'fev', ',', 'dizzy', ',', 'musc', 'ach', 'stomach', 'pain', ',', 'abdomin', 'cramp', ',', 'blo', ',', 'thirst', ',', 'weight', 'loss', ',', 'fev', 'nause', 'or', 'recur', 'upset', 'stomach', ',', 'abdomin', 'blo', ',', 'abdomin', 'pain', ',', 'vomit', ',', 'indigest', ',', 'burn', 'or', 'gnaw', 'feel', 'in', 'the', 'stomach', 'between', 'meal', 'or', 'at', 'night', ',', 'hiccup', ',', 'loss', 'of', 'appetit', ',', 'vomit', 'blood', 'or', 'coff', 'ground-like', 'mat', ',', 'black', 'tarry', 'stool', 'weak', ',', 'abdomin', 'pain', ',', 'constip', ',', 'headach', 'a', 'yellow', 'ting', 'to', 'the', 'skin', 'and', 'the', 'whit', 'of', 'the', 'ey', ',', 'norm', 'start', 'at', 'the', '2.head', 'and', 'spreading', 'down', 'the', 'body', ',', 'pal', 'stool', ',', 'dark', 'urin', ',', 'itchy', ',', 'fatigu', ',', 'abdomin', 'pain', ',', 'weight', 'loss', ',', 'vomit', ',', 'fev', 'pal', 'stool', ',', 'dark', 'urin', 'high', 'temp', ',', 'pain', 'dehydr', ',', 'loos', 'mot', 'stomach', 'pain', 'continu', 'fev', 'yellow', 'ey', 'fev', ',', 'rash', ',', 'headach', ',', 'neck', 'rigid', ',', 'joint', 'pain', ',', 'body', 'ache..', 'pass', 'of', 'loos', 'stool', 'mor', 'than', '3times/day', ',', 'dehydr', '.', 'vomit', ',', 'diarrhoe', ',', 'stool', 'mix', 'with', 'muc', 'and', 'blood', ',', 'gen', 'weak', ',', 'stomach', 'pain', '(', 'may', 'or', 'may', 'not', 'be', ')', 'fev', '(', 'step-ladder', 'fash', ')', ',', 'diarrhoe', '(', 'pea-soup', 'stool', ')', ',', 'pink', 'or', 'red', 'rash', 'on', 'abdom', ',', 'bloody', 'stool', ',', 'body', 'ach', '.', 'yellow', 'colo', 'of', 'skin', ',', 'up', 'pulpebr', 'conjunctiv', ',', 'tongu', '(', 'vent', 'surfac', ')', ',', 'hand', '(', 'palm', 'and', 'creas', ')', ',', 'nail', 'bed', ',', 'sole..', 'may', 'be', 'assocy', 'with', 'gen', 'itch', 'on', 'body', ',', 'yellow', 'urin', 'or', 'dark/pale', 'frothy', 'stool', '.', 'throught', 'infect', ',', 'neck', 'pain', ',', 'back', 'bon', 'pain', ',', 'digest', 'problem', '.', 'weak', 'vomit', ',', 'mot', 'neck', 'pain', ',', 'urin', 'infect', ',', 'body', 'pain', ',', 'digest', 'problem', '.', 'hat', 'food', '.', 'continu', 'fev', 'bon', '&', 'joint', 'pain', 'musc', 'pain', 'fatigu', 'loos', 'watery', 'stool', 'mor', 'than', '3', 'tim', 'a', 'day', 'abdomin', 'cramp', 'pain', 'abdomin', 'cramp', 'abdomin', 'distend', 'burn', 'senset', 'diarrhoe', ',', 'constip', 'fev', 'in', 'step', 'lad', 'pattern', 'ros', 'red', 'spot', 'on', 'abdom', 'rash', 'diarrhoe', ',', 'nause', ',', 'vomit', 'yellow', 'discolo', 'of', 'conjunctiv', ',', 'tongu', ',', 'palm', '&', 'sol', 'dark', 'yellow', 'colo', 'urin', 'rid', 'sid', 'pain', 'in', 'abdom', 'runny', 'nos', ',', 'sor', 'throat', ',', 'cough', ',', 'hoars', ',', 'musc', 'ach', 'bdomin', 'cramp', ',', 'abdomin', 'pain', ',', 'urg', 'to', 'go', 'to', 'the', 'toilet', ',', 'frequ', 'pass', 'of', 'loos', ',', 'watery', 'faec', ',', 'nause', '.', 'vomit', 'diarrhoe', ',', 'cramp', ',', 'nause', ',', 'vomit', 'and', 'low-grade', 'fev', 'high', 'fev', ',', 'headach', ',', 'stomach', 'pain', ',', 'weak', ',', 'vomit', 'and', 'loos', 'stool', '.', 'fatigu', ',', 'abdomin', 'pain', ',', 'weight', 'loss', ',', 'vomit', ',', 'fev', ',', 'pal', 'stool', ',', 'dark', 'urin', 'body', 'temp', 'increas', ',', 'cold', 'feel', ',', 'weak', ',', 'los', 'appetit', 'stomach', 'pain', ',', 'liquid', 'poop', ',', 'nause', ',', 'vomit', '.', 'stomach', 'pain', ',', 'bloody', 'diarrhoe', ',', 'low', 'fev', 'high', 'fev', ',', 'pain', 'in', 'the', 'joint', ',', 'too', 'much', 'weak', ',', 'low', 'blood', 'press', 'fev', ',', 'vomit', ',', 'pain', 'in', 'the', 'stomach', ',', 'yellow', 'ey', ',', 'dark', 'urin', 'headach', ',', 'body', 'pain', ',', 'loss', 'of', 'appetit', 'etc', 'stomach', 'ach', ',', 'vomit', ',', 'dehydr', 'etc', 'stomach', 'ach', ',', 'vomit', ',', 'diarrhoe', 'etc', 'confus', ',', 'stomach', 'pain', ',', 'constip', ',', 'fev', 'weight', 'loss', ',', 'swel', 'of', 'leg', ',', 'swel', 'of', 'abdom', 'ow', 'to', 'accum', 'of', 'fluid', ',', 'nause', ',', 'rect', 'blee', ',', 'headach', 'high', 'temp', 'cold', 'with', 'sneez', 'becom', 'weak', ',', 'us', 'toilet', 'mor', 'than', 'very', 'us', ',', 'lack', 'of', 'wat', 'in', 'body', 'cant', 'eat', 'any', 'spicy', 'food', ',', 'stomach', 'ach', ',', 'cant', 'digest', 'food', 'easy', 'high', 'temp', 'fev', ',', 'long', 'tim', 'fev', ',', 'vomit', 'vomit', 'ey', 'becom', 'yellow', 'from', 'norm', 'whit', 'cat', 'eat', 'norm', 'food', 'becaus', 'of', 'bad', 'smel', 'urin', 'becom', 'yellow', 'from', 'wat', 'colo', 'headach', 'dehydr', 'gastroenterit', 'sev', 'fev', 'ey', 'discol', 'pyrex', ',', 'headach', ',', 'mala', 'loos', 'stool', ',', 'abdomin', 'discomfort', ',', 'abdomin', 'pain', 'abdomin', 'pain', ',', 'vomit', ',', 'diarrhoe', ',', 'acid', ',', 'sometim', 'pyrex', 'pyrex', ',', 'diarrhoe', ',', 'abdomin', 'pain', ',', 'headach', 'yellow', 'discolo', 'of', 'skin', 'and', 'mucu', 'membr', ',', 'pyrex', ',', 'constip', ',', 'tend', 'hepatomega', ',', 'diarrhoe', ',', 'mala', 'high', 'grad', 'fev', ',', 'common', 'cold', ',', 'nause', 'pass', 'of', 'loos', 'watery', 'stool', 'mor', 'than', '3', 'tim', 'per', 'day', ',', 'dehydr', ',', 'lethargy', 'diarrhoe', ',', 'vomit', ',', 'sometim', 'low', 'grad', 'fev', ',', 'stomach', 'cramp', 'high', 'grad', 'fev', 'mor', 'than', '14', 'day', ',', 'abdomin', 'discomfort', ',', 'rash', 'yellow', 'discolo', 'of', 'skin', 'sclera', 'muc', 'membr', ',', 'abdomin', 'discomfort', ',', 'weak', 'body', 'pain', 'weak', 'bel', 'pain', 'weak', 'and', 'fev', 'ca', \"n't\", 'eat', 'anyth', 'runny', 'nos', ',', 'sor', 'throat', ',', 'cough', ',', 'hoars', ',', 'and', 'musc', 'ach', '.', 'frequ', 'watery', 'def', 'acid', 'high', 'fev', 'yellow', 'discol', 'of', 'skin', 'and', 'muc', 'membr', 'sev', 'pain', 'in', 'the', 'joint', ',', 'vomit', ',', 'rash', 'abdomin', 'pain', ',', 'cramp', ';', 'nause', ',', 'vomit', ',', 'pass', 'of', 'loos', 'watery', 'stool', 'loss', 'of', 'appetit', ',', 'vomit', ',', 'nause', ',', 'diarrhoe', ',', 'abdomin', 'cramp', ',', 'pain', 'fev', ',', 'rash', ',', 'weak', 'yellow', 'skin', '&', 'muc', 'membr', ',', 'dark', 'urin', ',', 'itchy', 'sev', 'joint', 'pain', ',', 'vomit', ',', 'nas', 'congest', ',', 'cough', ',', 'headach', ',', 'skin', 'rash', ',', 'diarrhe', 'abdomin', 'pain', ',', 'cramp', ',', 'chang', 'in', 'colo', 'of', 'stool', ',', 'vomit', ',', 'body', 'weak', 'and', 'tir', ',', 'urg', 'nee', 'to', 'go', 'to', 'the', 'toilet', 'nause', ',', 'vomit', ',', 'musc', 'ach', ',', 'headach', ',', 'low-grade', 'fev', ',', 'us', 'nonbloody', 'diarrhe', 'weak', ',', 'abdomin', 'pain', ',', 'constip', ',', 'headach', 'pal', 'stool', ',', 'dark', 'urin', ',', 'itchy', ',', 'weight', 'loss', ',', 'fev', ',', 'yellow', 'ting', 'to', 'the', 'skin', 'and', 'the', 'whit', 'of', 'the', 'ey', 'run', 'nos', ',', 'fatigu', ',', 'dizzy', ',', 'weak', ',', 'chil', ',', 'body', 'and', 'joint', 'pain', 'abdomin', 'cramp', ',', 'abdomin', 'pain', ',', 'urg', 'to', 'go', 'to', 'the', 'toilet', ',', 'loos', 'faec', ',', 'watery', 'faec', 'loss', 'of', 'appetit', ',', 'nause', 'and', 'vomit', ',', 'diarrhe', ',', 'blood', 'in', 'stool', ',', 'fev', 'poor', 'appetit', ',', 'gen', 'ach', ',', 'high', 'fev', ',', 'lethargy', 'yellow', 'discol', 'of', 'the', 'skin', ',', 'light-colored', 'stool', ',', 'itch', 'of', 'the', 'skin', '.', 'dark-colored', 'urin', 'very', 'high', 'fev', ',', 'fev', 'for', 'a', 'long', 'period', ',', 'rash', ',', 'swel', 'on', 'the', 'fac', ',', 'pain', 'in', 'joint', 'stomach', 'pain', ',', 'abdomin', 'cramp', ',', 'blo', ',', 'thirst', ',', 'weight', 'loss', 'non-bloody', 'diarrhe', ',', 'watery', 'diarrhe', ',', 'nause', ',', 'dehydr', ',', 'dry', 'skin', ',', 'dry', 'mou', 'confus', ',', 'constip', ',', 'rash', ',', 'poor', 'appetit', ',', 'stomach', 'pain', ',', 'high', 'fev', ',', 'weak', 'yellow', 'pig', ',', 'pal', 'stool', ',', 'dark', 'urin', ',', 'itch', ',', 'liv', 'fluk', 'warm', 'temp', 'excess', 'wat', 'loss', 'abdom', 'pain', 'warm', 'temp', 'but', 'low', 'puls', 'yellow', 'discol', 'of', 'muc', 'memebr', 'warm', 'temp', 'excess', 'wat', 'loss', 'abdom', 'pain', 'warm', 'temp', 'but', 'low', 'puls', 'yellow', 'discol', 'of', 'muc', 'membr', 'ris', 'in', 'body', 'temp', ',', 'weak', ',', 'loss', 'of', 'tast', 'nause', ',', 'vomit', ',', 'loss', 'of', 'appetit', ',', 'headach', 'rep', 'bout', 'of', 'diarrhoe', ',', 'high', 'temp', ',', 'stomach', 'cramp', ',', 'a', 'high', 'temp', ',', 'musc', 'ach', ',', 'constip', ',', 'rash', ',', 'exhaust', 'pal', 'colo', 'stool', ',', 'skin', 'itch', ',', 'dark', 'colo', 'urin', '.', 'fev', 'and', 'chil', 'swel', 'of', 'the', 'fac', ',', 'feel', 'very', 'letharg', ',', 'naus', 'loos', 'watery', 'stool', ',', 'abdomin', 'cramp', ',', 'blo', ',', 'blood', 'in', 'the', 'stool', 'nause', 'and', 'vomit', ',', 'mild', 'fev', 'and', 'chil', ',', 'incontin', ',', 'headach', 'confus', ',', 'stomach', 'pain', ',', 'constip', ',', 'fev', 'weight', 'loss', ',', 'swel', 'of', 'leg', ',', 'swel', 'of', 'abdom', 'ow', 'to', 'accum', 'of', 'fluid', ',', 'nause', ',', 'rect', 'blee', ',', 'headach', 'body', 'temp', ',', 'pain', 'in', 'the', 'joint', ',', 'pain', 'in', 'the', 'stomach', 'frequ', 'loos', 'stool', ',', 'blee', ',', 'lighthead', ',', 'dizzy', 'body', 'weak', ',', 'bur', 'feel', 'in', 'the', 'stomach', ',', 'indigest', ',', 'stool', 'mix', 'with', 'muc', 'red', 'rash', ',', 'urin', 'infect', ',', 'high', 'temp', ',', 'pyrex', 'yellow', 'discol', 'tongu', ',', 'yellow', 'colo', 'urin', ',', 'vomit']\n"
     ]
    }
   ],
   "source": [
    "words=[stemmer.stem(w.lower()) for w in words if w not in ignore_words]\n",
    "print(words)"
   ]
  },
  {
   "cell_type": "code",
   "execution_count": 22,
   "metadata": {},
   "outputs": [
    {
     "name": "stdout",
     "output_type": "stream",
     "text": [
      "['accum', 'meal', 'diarrhe', 'high', 'bel', 'warm', 'bout', 'runny', 'discolo', 'low', 'grad', 'gastroenterit', 'excess', 'wat', 'hiccup', 'nail', 'pass', 'eat', 'bdomin', 'dizzy', 'low-grade', 'feel', 'for', 'rigid', 'naus', 'exhaust', 'chang', 'weak', 'up', 'in', 'sole..', 'bon', 'anyth', 'cramp', 'mix', 'continu', 'toilet', 'urg', ',', 'hepatomega', ';', 'watery', '2.head', 'memebr', 'back', 'leg', 'throat', 'becaus', 'mala', 'fac', 'press', 'or', 'itchy', 'on', 'senset', 'long', 'sev', 'pyrex', 'of', 'mild', 'puls', 'be', 'rash', 'ca', 'hoars', 'poor', 'membr', 'appetit', 'lighthead', 'letharg', 'any', 'loss', 'stool', 'mot', 'pink', 'blo', 'at', 'skin', 'which', 'diarrhoe', 'very', 'dry', 'reach', 'smel', 'rep', 'headach', 'blood', 'ris', 'a', 'spreading', 'common', 'chil', 'rect', 'vomit', 'too', 'increas', 'ros', 'ey', '(', 'the', 'tim', 'with', 'gnaw', 'stomach', 'thirst', 'nos', 'confus', 'mor', 'can', 'sol', '.', 'pal', 'go', 'recur', 'joint', 'tongu', 'black', 'blee', 'easy', 'fever.a', 'distend', 'ow', 'down', 'dark', 'pulpebr', 'burn', '&', 'sneez', 'dark-colored', 'body', 'non-bloody', 'red', 'cold', 'us', '39-40c', 'mou', 'def', 'digest', 'not', 'itch', 'dehydr', 'step-ladder', 'spicy', 'period', 'sor', 'incontin', 'los', 'vent', 'night', 'nas', 'cat', 'ground-like', 'liquid', 'etc', 'light-colored', 'tast', 'nause', 'neck', 'may', 'per', 'sick', 'muc', 'acid', 'ting', 'norm', 'pig', 'coff', 'pattern', 'bur', 'day', 'weight', 'start', ')', 'mucu', 'yellow', 'temp', 'abdom', 'run', 'ach', 'tarry', 'nee', 'sid', 'frequ', '3', 'whit', 'gen', 'urin', 'spot', 'conjunctiv', 'palm', 'creas', 'food', 'pain', 'infect', 'indigest', 'liv', 'throught', 'fluid', '3times/day', 'congest', 'fash', 'fev', 'problem', 'dark/pale', 'poop', 'fatigu', 'rid', 'and', 'faec', 'pea-soup', 'hat', 'tir', 'than', 'nonbloody', 'assocy', 'between', 'lack', 'colo', 'discomfort', 'upset', 'ache..', 'mat', 'surfac', 'cough', 'loos', 'hand', 'bad', '14', 'fluk', 'lethargy', 'bed', 'step', 'cant', 'tend', \"n't\", 'but', 'from', 'bloody', 'sclera', 'becom', 'to', 'abdomin', 'constip', 'much', 'frothy', 'swel', 'sometim', 'discol', 'lad', 'musc']\n"
     ]
    }
   ],
   "source": [
    "words=list(set(words))\n",
    "print(words)"
   ]
  },
  {
   "cell_type": "code",
   "execution_count": 23,
   "metadata": {},
   "outputs": [
    {
     "name": "stdout",
     "output_type": "stream",
     "text": [
      "['Viral Fever', 'Diarrhoea', 'Stomach Infections', 'Typhoid', 'Jaundice']\n"
     ]
    }
   ],
   "source": [
    "print(classes)"
   ]
  },
  {
   "cell_type": "code",
   "execution_count": 24,
   "metadata": {},
   "outputs": [
    {
     "name": "stdout",
     "output_type": "stream",
     "text": [
      "['Jaundice', 'Viral Fever', 'Stomach Infections', 'Diarrhoea', 'Typhoid']\n"
     ]
    }
   ],
   "source": [
    "classes=list(set(classes))\n",
    "print(classes)"
   ]
  },
  {
   "cell_type": "code",
   "execution_count": 25,
   "metadata": {},
   "outputs": [
    {
     "name": "stdout",
     "output_type": "stream",
     "text": [
      "120 documents\n",
      "5 classes ['Jaundice', 'Viral Fever', 'Stomach Infections', 'Diarrhoea', 'Typhoid']\n",
      "250 unique stemmed words ['accum', 'meal', 'diarrhe', 'high', 'bel', 'warm', 'bout', 'runny', 'discolo', 'low', 'grad', 'gastroenterit', 'excess', 'wat', 'hiccup', 'nail', 'pass', 'eat', 'bdomin', 'dizzy', 'low-grade', 'feel', 'for', 'rigid', 'naus', 'exhaust', 'chang', 'weak', 'up', 'in', 'sole..', 'bon', 'anyth', 'cramp', 'mix', 'continu', 'toilet', 'urg', ',', 'hepatomega', ';', 'watery', '2.head', 'memebr', 'back', 'leg', 'throat', 'becaus', 'mala', 'fac', 'press', 'or', 'itchy', 'on', 'senset', 'long', 'sev', 'pyrex', 'of', 'mild', 'puls', 'be', 'rash', 'ca', 'hoars', 'poor', 'membr', 'appetit', 'lighthead', 'letharg', 'any', 'loss', 'stool', 'mot', 'pink', 'blo', 'at', 'skin', 'which', 'diarrhoe', 'very', 'dry', 'reach', 'smel', 'rep', 'headach', 'blood', 'ris', 'a', 'spreading', 'common', 'chil', 'rect', 'vomit', 'too', 'increas', 'ros', 'ey', '(', 'the', 'tim', 'with', 'gnaw', 'stomach', 'thirst', 'nos', 'confus', 'mor', 'can', 'sol', '.', 'pal', 'go', 'recur', 'joint', 'tongu', 'black', 'blee', 'easy', 'fever.a', 'distend', 'ow', 'down', 'dark', 'pulpebr', 'burn', '&', 'sneez', 'dark-colored', 'body', 'non-bloody', 'red', 'cold', 'us', '39-40c', 'mou', 'def', 'digest', 'not', 'itch', 'dehydr', 'step-ladder', 'spicy', 'period', 'sor', 'incontin', 'los', 'vent', 'night', 'nas', 'cat', 'ground-like', 'liquid', 'etc', 'light-colored', 'tast', 'nause', 'neck', 'may', 'per', 'sick', 'muc', 'acid', 'ting', 'norm', 'pig', 'coff', 'pattern', 'bur', 'day', 'weight', 'start', ')', 'mucu', 'yellow', 'temp', 'abdom', 'run', 'ach', 'tarry', 'nee', 'sid', 'frequ', '3', 'whit', 'gen', 'urin', 'spot', 'conjunctiv', 'palm', 'creas', 'food', 'pain', 'infect', 'indigest', 'liv', 'throught', 'fluid', '3times/day', 'congest', 'fash', 'fev', 'problem', 'dark/pale', 'poop', 'fatigu', 'rid', 'and', 'faec', 'pea-soup', 'hat', 'tir', 'than', 'nonbloody', 'assocy', 'between', 'lack', 'colo', 'discomfort', 'upset', 'ache..', 'mat', 'surfac', 'cough', 'loos', 'hand', 'bad', '14', 'fluk', 'lethargy', 'bed', 'step', 'cant', 'tend', \"n't\", 'but', 'from', 'bloody', 'sclera', 'becom', 'to', 'abdomin', 'constip', 'much', 'frothy', 'swel', 'sometim', 'discol', 'lad', 'musc']\n"
     ]
    }
   ],
   "source": [
    "print (len(documents), \"documents\")\n",
    "print (len(classes), \"classes\", classes)\n",
    "print (len(words), \"unique stemmed words\", words)"
   ]
  },
  {
   "cell_type": "code",
   "execution_count": 26,
   "metadata": {
    "collapsed": true
   },
   "outputs": [],
   "source": [
    "training =[]\n",
    "output=[]\n",
    "output_empty=[0]*len(classes)"
   ]
  },
  {
   "cell_type": "code",
   "execution_count": 27,
   "metadata": {},
   "outputs": [
    {
     "name": "stdout",
     "output_type": "stream",
     "text": [
      "[(['Feel', 'Weak'], 'Viral Fever'), (['dehydration'], 'Diarrhoea'), (['Feel', 'Pain'], 'Stomach Infections'), (['High', 'fever.a', 'high', 'temperature', ',', 'which', 'can', 'reach', 'up', 'to', '39-40C', ',', 'headache', ',', 'muscle', 'aches', ',', 'stomach', 'pain', ',', 'feeling', 'sick', ',', 'loss', 'of', 'appetite', ','], 'Typhoid'), (['fever', ',', 'pale', 'stools', ',', 'dark', 'urine'], 'Jaundice'), (['fatigue', ',', 'fever', ',', 'dizziness', ',', 'muscle', 'aches'], 'Viral Fever'), (['stomach', 'pain', ',', 'abdominal', 'cramps', ',', 'bloating', ',', 'thirst', ',', 'weight', 'loss', ',', 'fever'], 'Diarrhoea'), (['Nausea', 'or', 'recurrent', 'upset', 'stomach', ',', 'Abdominal', 'bloating', ',', 'Abdominal', 'pain', ',', 'Vomiting', ',', 'Indigestion', ',', 'Burning', 'or', 'gnawing', 'feeling', 'in', 'the', 'stomach', 'between', 'meals', 'or', 'at', 'night', ',', 'Hiccups', ',', 'Loss', 'of', 'appetite', ',', 'Vomiting', 'blood', 'or', 'coffee', 'ground-like', 'material', ',', 'Black', 'tarry', 'stools'], 'Stomach Infections'), (['weakness', ',', 'abdominal', 'pain', ',', 'constipation', ',', 'headaches'], 'Typhoid'), (['a', 'yellow', 'tinge', 'to', 'the', 'skin', 'and', 'the', 'whites', 'of', 'the', 'eyes', ',', 'normally', 'starting', 'at', 'the', '2.head', 'and', 'spreading', 'down', 'the', 'body', ',', 'pale', 'stools', ',', 'dark', 'urine', ',', 'itchiness', ',', 'fatigue', ',', 'abdominal', 'pain', ',', 'weight', 'loss', ',', 'vomiting', ',', 'fever', 'pale', 'stools', ',', 'dark', 'urine'], 'Jaundice'), (['high', 'temperature', ',', 'pain'], 'Viral Fever'), (['dehydration', ',', 'loose', 'motion'], 'Diarrhoea'), (['stomach', 'pain'], 'Stomach Infections'), (['continuous', 'fever'], 'Typhoid'), (['yellow', 'eyes'], 'Jaundice'), (['Fever', ',', 'Rash', ',', 'headache', ',', 'neck', 'rigidity', ',', 'joint', 'pain', ',', 'body', 'ache..'], 'Viral Fever'), (['Passage', 'of', 'loose', 'stool', 'more', 'than', '3times/day', ',', 'dehydration', '.'], 'Diarrhoea'), (['Vomiting', ',', 'diarrhoea', ',', 'stool', 'mixed', 'with', 'mucous', 'and', 'blood', ',', 'general', 'weakness', ',', 'stomach', 'pain', '(', 'may', 'or', 'may', 'not', 'be', ')'], 'Stomach Infections'), (['Fever', '(', 'step-ladder', 'fashion', ')', ',', 'Diarrhoea', '(', 'pea-soup', 'stool', ')', ',', 'pink', 'or', 'reddish', 'rash', 'on', 'abdomen', ',', 'bloody', 'stool', ',', 'body', 'ache', '.'], 'Typhoid'), (['Yellowish', 'colouration', 'of', 'skin', ',', 'upper', 'pulpebral', 'conjunctiva', ',', 'tongue', '(', 'ventral', 'surface', ')', ',', 'hand', '(', 'palm', 'and', 'creases', ')', ',', 'nail', 'bed', ',', 'sole..', 'may', 'be', 'associated', 'with', 'generalized', 'itching', 'on', 'body', ',', 'yellowish', 'urine', 'or', 'dark/pale', 'frothy', 'stool', '.'], 'Jaundice'), (['Throught', 'infection', ',', 'neck', 'pain', ',', 'back', 'bone', 'pain', ',', 'digestive', 'problem', '.'], 'Viral Fever'), (['Weakness'], 'Diarrhoea'), (['Vomitings', ',', 'motions'], 'Stomach Infections'), (['Neck', 'pain', ',', 'urine', 'infection', ',', 'body', 'pains', ',', 'digestive', 'problem', '.'], 'Typhoid'), (['Hating', 'food', '.'], 'Jaundice'), (['continuous', 'fever', 'bone', '&', 'joint', 'pain', 'muscle', 'pain', 'fatigue'], 'Viral Fever'), (['loose', 'watery', 'stool', 'more', 'than', '3', 'times', 'a', 'day', 'abdominal', 'cramps'], 'Diarrhoea'), (['pain', 'abdominal', 'cramps', 'abdominal', 'distension', 'burning', 'sensetion', 'diarrhoea', ',', 'constipation'], 'Stomach Infections'), (['fever', 'in', 'step', 'ladder', 'pattern', 'rose', 'red', 'spots', 'on', 'abdomen', 'rash', 'diarrhoea', ',', 'nausea', ',', 'vomiting'], 'Typhoid'), (['yellowish', 'discolouration', 'of', 'conjunctiva', ',', 'tongue', ',', 'palm', '&', 'sole', 'dark', 'yellow', 'colour', 'urine', 'ride', 'sided', 'pain', 'in', 'abdomen'], 'Jaundice'), (['runny', 'nose', ',', 'sore', 'throat', ',', 'cough', ',', 'hoarseness', ',', 'muscle', 'aches'], 'Viral Fever'), (['bdominal', 'cramps', ',', 'abdominal', 'pains', ',', 'urgency', 'to', 'go', 'to', 'the', 'toilet', ',', 'frequent', 'passing', 'of', 'loose', ',', 'watery', 'faeces', ',', 'nausea', '.', 'vomiting'], 'Diarrhoea'), (['Diarrhoea', ',', 'cramps', ',', 'nausea', ',', 'vomiting', 'and', 'low-grade', 'fever'], 'Stomach Infections'), (['high', 'fever', ',', 'headache', ',', 'stomach', 'pain', ',', 'weakness', ',', 'vomiting', 'and', 'loose', 'stools', '.'], 'Typhoid'), (['fatigue', ',', 'abdominal', 'pain', ',', 'weight', 'loss', ',', 'Vomiting', ',', 'Fever', ',', 'pale', 'stools', ',', 'dark', 'urine'], 'Jaundice'), (['body', 'temperature', 'increases', ',', 'cold', 'feeling', ',', 'weakness', ',', 'losing', 'appetite'], 'Viral Fever'), (['stomach', 'pain', ',', 'liquid', 'poop', ',', 'nausea', ',', 'vomiting', '.'], 'Diarrhoea'), (['stomach', 'pain', ',', 'bloody', 'diarrhoea', ',', 'low', 'fever'], 'Stomach Infections'), (['high', 'fever', ',', 'pain', 'in', 'the', 'joints', ',', 'too', 'much', 'weakness', ',', 'low', 'blood', 'pressure'], 'Typhoid'), (['fever', ',', 'vomit', ',', 'pain', 'in', 'the', 'stomach', ',', 'yellow', 'eyes', ',', 'dark', 'urine'], 'Jaundice'), (['headache', ',', 'body', 'pain', ',', 'loss', 'of', 'appetite', 'etc'], 'Viral Fever'), (['stomach', 'ache', ',', 'vomiting', ',', 'dehydration', 'etc'], 'Diarrhoea'), (['stomach', 'ache', ',', 'vomiting', ',', 'diarrhoea', 'etc'], 'Stomach Infections'), (['confusion', ',', 'stomach', 'pain', ',', 'constipation', ',', 'fever'], 'Typhoid'), (['Weight', 'loss', ',', 'Swelling', 'of', 'legs', ',', 'Swelling', 'of', 'abdomen', 'owing', 'to', 'accumulation', 'of', 'fluid', ',', 'Nausea', ',', 'Rectal', 'bleeding', ',', 'Headache'], 'Jaundice'), (['High', 'temperature', 'cold', 'with', 'sneezing'], 'Viral Fever'), (['Becomes', 'weak', ',', 'Using', 'toilets', 'more', 'than', 'very', 'usual', ',', 'Lack', 'of', 'water', 'in', 'body'], 'Diarrhoea'), (['Cant', 'eat', 'any', 'spicy', 'food', ',', 'stomach', 'ache', ',', 'Cant', 'Digest', 'food', 'easily'], 'Stomach Infections'), (['High', 'temperature', 'fever', ',', 'Long', 'time', 'fever', ',', 'vomiting'], 'Typhoid'), (['vomiting', 'eyes', 'become', 'yellow', 'from', 'normal', 'white', 'cat', 'eat', 'normal', 'food', 'because', 'of', 'bad', 'smell', 'Urine', 'becomes', 'yellow', 'from', 'water', 'colour'], 'Jaundice'), (['Headache'], 'Viral Fever'), (['Dehydration'], 'Diarrhoea'), (['Gastroenteritis'], 'Stomach Infections'), (['Severe', 'fever'], 'Typhoid'), (['Eye', 'discoloration'], 'Jaundice'), (['pyrexia', ',', 'headache', ',', 'malaise'], 'Viral Fever'), (['loose', 'stool', ',', 'abdominal', 'discomfort', ',', 'abdominal', 'pain'], 'Diarrhoea'), (['abdominal', 'pain', ',', 'vomiting', ',', 'diarrhoea', ',', 'acidity', ',', 'sometimes', 'pyrexia'], 'Stomach Infections'), (['pyrexia', ',', 'diarrhoea', ',', 'abdominal', 'pain', ',', 'headache'], 'Typhoid'), (['yellow', 'discolouration', 'of', 'skin', 'and', 'mucuous', 'membrane', ',', 'pyrexia', ',', 'constipation', ',', 'tender', 'hepatomegaly', ',', 'diarrhoea', ',', 'malaise'], 'Jaundice'), (['High', 'grade', 'fever', ',', 'common', 'cold', ',', 'nausea'], 'Viral Fever'), (['Passing', 'of', 'loose', 'watery', 'stool', 'more', 'than', '3', 'times', 'per', 'day', ',', 'dehydration', ',', 'lethargy'], 'Diarrhoea'), (['diarrhoea', ',', 'vomitting', ',', 'sometimes', 'low', 'grade', 'fever', ',', 'stomach', 'cramp'], 'Stomach Infections'), (['High', 'grade', 'fever', 'more', 'than', '14', 'days', ',', 'abdominal', 'discomfort', ',', 'rash'], 'Typhoid'), (['Yellowish', 'discolouration', 'of', 'skin', 'sclera', 'mucous', 'membrane', ',', 'abdominal', 'discomfort', ',', 'weakness'], 'Jaundice'), (['Body', 'pain'], 'Viral Fever'), (['Weakness'], 'Diarrhoea'), (['Belly', 'pain'], 'Stomach Infections'), (['Weakness', 'and', 'fever'], 'Typhoid'), (['Ca', \"n't\", 'eat', 'anything'], 'Jaundice'), (['Runny', 'nose', ',', 'sore', 'throat', ',', 'cough', ',', 'hoarseness', ',', 'and', 'muscle', 'aches', '.'], 'Viral Fever'), (['Frequent', 'watery', 'defication'], 'Diarrhoea'), (['Acidity'], 'Stomach Infections'), (['High', 'fever'], 'Typhoid'), (['Yellowish', 'discoloration', 'of', 'skin', 'and', 'mucous', 'membrane'], 'Jaundice'), (['Severe', 'pain', 'in', 'the', 'joints', ',', 'vomiting', ',', 'rash'], 'Viral Fever'), (['Abdominal', 'pain', ',', 'cramps', ';', 'nausea', ',', 'vomiting', ',', 'passing', 'of', 'loose', 'watery', 'stool'], 'Diarrhoea'), (['Loss', 'of', 'appetite', ',', 'vomiting', ',', 'nausea', ',', 'diarrhoea', ',', 'abdominal', 'cramps', ',', 'pain'], 'Stomach Infections'), (['Fever', ',', 'rash', ',', 'weakness'], 'Typhoid'), (['Yellow', 'skin', '&', 'mucous', 'membrane', ',', 'dark', 'urin', ',', 'itchiness'], 'Jaundice'), (['Severe', 'joint', 'pain', ',', 'Vomiting', ',', 'Nasal', 'congestion', ',', 'Cough', ',', 'Headache', ',', 'Skin', 'rashes', ',', 'Diarrhea'], 'Viral Fever'), (['Abdominal', 'pain', ',', 'cramping', ',', 'Change', 'in', 'colour', 'of', 'stools', ',', 'Vomiting', ',', 'body', 'weakness', 'and', 'tiredness', ',', 'Urgent', 'need', 'to', 'go', 'to', 'the', 'toilet'], 'Diarrhoea'), (['Nausea', ',', 'vomiting', ',', 'muscle', 'aches', ',', 'headache', ',', 'Low-grade', 'fever', ',', 'usually', 'nonbloody', 'diarrhea'], 'Stomach Infections'), (['weakness', ',', 'abdominal', 'pain', ',', 'constipation', ',', 'headaches'], 'Typhoid'), (['pale', 'stools', ',', 'dark', 'urine', ',', 'itchiness', ',', 'weight', 'loss', ',', 'fever', ',', 'yellow', 'tinge', 'to', 'the', 'skin', 'and', 'the', 'whites', 'of', 'the', 'eyes'], 'Jaundice'), (['running', 'nose', ',', 'fatigue', ',', 'dizziness', ',', 'weakness', ',', 'chills', ',', 'body', 'and', 'joint', 'pains'], 'Viral Fever'), (['abdominal', 'cramps', ',', 'abdominal', 'pains', ',', 'urgency', 'to', 'go', 'to', 'the', 'toilet', ',', 'loose', 'faeces', ',', 'watery', 'faeces'], 'Diarrhoea'), (['loss', 'of', 'appetite', ',', 'nausea', 'and', 'vomiting', ',', 'diarrhea', ',', 'blood', 'in', 'stools', ',', 'fever'], 'Stomach Infections'), (['Poor', 'appetite', ',', 'Generalized', 'aches', ',', 'High', 'fever', ',', 'Lethargy'], 'Typhoid'), (['yellow', 'discoloration', 'of', 'the', 'skin', ',', 'light-colored', 'stools', ',', 'itching', 'of', 'the', 'skin', '.', 'dark-colored', 'urine'], 'Jaundice'), (['very', 'high', 'fever', ',', 'fever', 'for', 'a', 'long', 'period', ',', 'rashes', ',', 'swelling', 'on', 'the', 'face', ',', 'pain', 'in', 'joints'], 'Viral Fever'), (['stomach', 'pain', ',', 'abdominal', 'cramps', ',', 'bloating', ',', 'thirst', ',', 'weight', 'loss'], 'Diarrhoea'), (['non-bloody', 'diarrhea', ',', 'watery', 'diarrhea', ',', 'nausea', ',', 'dehydration', ',', 'dry', 'skin', ',', 'dry', 'mouth'], 'Stomach Infections'), (['confusion', ',', 'constipation', ',', 'rash', ',', 'poor', 'appetite', ',', 'stomach', 'pain', ',', 'high', 'fever', ',', 'weakness'], 'Typhoid'), (['Yellow', 'Pigmentation', ',', 'Pale', 'Stool', ',', 'Dark', 'Urine', ',', 'Itching', ',', 'Liver', 'flukes'], 'Jaundice'), (['Warm', 'temperature'], 'Viral Fever'), (['Excess', 'water', 'loss'], 'Diarrhoea'), (['Abdomen', 'pain'], 'Stomach Infections'), (['Warm', 'temperature', 'but', 'low', 'pulse'], 'Typhoid'), (['Yellow', 'discolorization', 'of', 'mucous', 'memebrane'], 'Jaundice'), (['Warm', 'temperature'], 'Viral Fever'), (['Excess', 'water', 'loss'], 'Diarrhoea'), (['Abdomen', 'pain'], 'Stomach Infections'), (['Warm', 'temperature', 'but', 'low', 'pulse'], 'Typhoid'), (['Yellow', 'discoloration', 'of', 'mucous', 'membrane'], 'Jaundice'), (['rise', 'in', 'body', 'temperature', ',', 'weakness', ',', 'loss', 'of', 'taste'], 'Viral Fever'), (['nausea', ',', 'vomiting', ',', 'loss', 'of', 'appetite', ',', 'headache'], 'Diarrhoea'), (['repeated', 'bouts', 'of', 'diarrhoea', ',', 'high', 'temperature', ',', 'stomach', 'cramps', ','], 'Stomach Infections'), (['a', 'high', 'temperature', ',', 'muscle', 'aches', ',', 'constipation', ',', 'rash', ',', 'exhaustion'], 'Typhoid'), (['Pale', 'coloured', 'stool', ',', 'Skin', 'itching', ',', 'Dark', 'coloured', 'urine', '.', 'Fever', 'and', 'chills'], 'Jaundice'), (['swelling', 'of', 'the', 'face', ',', 'feel', 'very', 'lethargic', ',', 'nauseated'], 'Viral Fever'), (['Loose', 'watery', 'stools', ',', 'Abdominal', 'cramps', ',', 'Bloating', ',', 'Blood', 'in', 'the', 'stool'], 'Diarrhoea'), (['Nausea', 'and', 'vomiting', ',', 'Mild', 'fever', 'and', 'chills', ',', 'Incontinence', ',', 'Headache'], 'Stomach Infections'), (['confusion', ',', 'stomach', 'pain', ',', 'constipation', ',', 'fever'], 'Typhoid'), (['Weight', 'loss', ',', 'Swelling', 'of', 'legs', ',', 'Swelling', 'of', 'abdomen', 'owing', 'to', 'accumulation', 'of', 'fluid', ',', 'Nausea', ',', 'Rectal', 'bleeding', ',', 'Headache'], 'Jaundice'), (['body', 'temperature', ',', 'pain', 'in', 'the', 'joints', ',', 'pain', 'in', 'the', 'stomach'], 'Viral Fever'), (['Frequent', 'loose', 'stools', ',', 'Bleeding', ',', 'Lightheadedness', ',', 'dizziness'], 'Diarrhoea'), (['body', 'weakness', ',', 'Burring', 'feeling', 'in', 'the', 'stomach', ',', 'Indigestion', ',', 'stool', 'mixed', 'with', 'mucous'], 'Stomach Infections'), (['reddish', 'rash', ',', 'urine', 'infection', ',', 'High', 'temperature', ',', 'pyrexia'], 'Typhoid'), (['yellowish', 'discoloration', 'tongue', ',', 'yellow', 'colour', 'urine', ',', 'vomit'], 'Jaundice')]\n"
     ]
    }
   ],
   "source": [
    "print(documents)"
   ]
  },
  {
   "cell_type": "code",
   "execution_count": 28,
   "metadata": {},
   "outputs": [
    {
     "name": "stdout",
     "output_type": "stream",
     "text": [
      "# words 250\n",
      "# classes 5\n"
     ]
    }
   ],
   "source": [
    "#vectoring step\n",
    "for doc in documents:\n",
    "    bag=[]\n",
    "    #print(doc)\n",
    "    pattern_words=doc[0]\n",
    "    #print(pattern_words)\n",
    "    pattern_words = [stemmer.stem(word.lower()) for word in pattern_words]\n",
    "    #print(pattern_words)\n",
    "    \n",
    "    for w in words:\n",
    "        bag.append(1) if w in pattern_words else bag.append(0)\n",
    "    \n",
    "    #print(bag)\n",
    "    training.append(bag)\n",
    "    output_row=list(output_empty)\n",
    "    output_row[classes.index(doc[1])] = 1\n",
    "    #print(output_row)\n",
    "    output.append(output_row)\n",
    "print (\"# words\", len(words))\n",
    "print (\"# classes\", len(classes))"
   ]
  },
  {
   "cell_type": "code",
   "execution_count": 29,
   "metadata": {},
   "outputs": [
    {
     "name": "stdout",
     "output_type": "stream",
     "text": [
      "['feel', 'weak']\n",
      "[0, 0, 0, 0, 0, 0, 0, 0, 0, 0, 0, 0, 0, 0, 0, 0, 0, 0, 0, 0, 0, 1, 0, 0, 0, 0, 0, 1, 0, 0, 0, 0, 0, 0, 0, 0, 0, 0, 0, 0, 0, 0, 0, 0, 0, 0, 0, 0, 0, 0, 0, 0, 0, 0, 0, 0, 0, 0, 0, 0, 0, 0, 0, 0, 0, 0, 0, 0, 0, 0, 0, 0, 0, 0, 0, 0, 0, 0, 0, 0, 0, 0, 0, 0, 0, 0, 0, 0, 0, 0, 0, 0, 0, 0, 0, 0, 0, 0, 0, 0, 0, 0, 0, 0, 0, 0, 0, 0, 0, 0, 0, 0, 0, 0, 0, 0, 0, 0, 0, 0, 0, 0, 0, 0, 0, 0, 0, 0, 0, 0, 0, 0, 0, 0, 0, 0, 0, 0, 0, 0, 0, 0, 0, 0, 0, 0, 0, 0, 0, 0, 0, 0, 0, 0, 0, 0, 0, 0, 0, 0, 0, 0, 0, 0, 0, 0, 0, 0, 0, 0, 0, 0, 0, 0, 0, 0, 0, 0, 0, 0, 0, 0, 0, 0, 0, 0, 0, 0, 0, 0, 0, 0, 0, 0, 0, 0, 0, 0, 0, 0, 0, 0, 0, 0, 0, 0, 0, 0, 0, 0, 0, 0, 0, 0, 0, 0, 0, 0, 0, 0, 0, 0, 0, 0, 0, 0, 0, 0, 0, 0, 0, 0, 0, 0, 0, 0, 0, 0, 0, 0, 0, 0, 0, 0, 0, 0, 0, 0, 0, 0]\n",
      "[0, 1, 0, 0, 0]\n"
     ]
    }
   ],
   "source": [
    "i=0\n",
    "w = documents[i][0]\n",
    "print ([stemmer.stem(word.lower()) for word in w])\n",
    "print (training[i])\n",
    "print (output[i])\n"
   ]
  },
  {
   "cell_type": "code",
   "execution_count": 30,
   "metadata": {
    "collapsed": true
   },
   "outputs": [],
   "source": [
    "import numpy as np\n",
    "import time"
   ]
  },
  {
   "cell_type": "code",
   "execution_count": 31,
   "metadata": {
    "collapsed": true
   },
   "outputs": [],
   "source": [
    "def sigmoid(x):\n",
    "    output=1/(1+np.exp(-x))\n",
    "    return output"
   ]
  },
  {
   "cell_type": "code",
   "execution_count": 32,
   "metadata": {
    "collapsed": true
   },
   "outputs": [],
   "source": [
    "def sigmoid_output_to_devivative(output):\n",
    "    res=output*(1-output)\n",
    "    return res"
   ]
  },
  {
   "cell_type": "code",
   "execution_count": 33,
   "metadata": {
    "collapsed": true
   },
   "outputs": [],
   "source": [
    "def clean_up_sentence(sentence):\n",
    "    sentence_words= nltk.word_tokenize(sentence)\n",
    "    sentence_words = [stemmer.stem(word.lower()) for word in sentence_words]\n",
    "    return sentence_words"
   ]
  },
  {
   "cell_type": "code",
   "execution_count": 34,
   "metadata": {
    "collapsed": true
   },
   "outputs": [],
   "source": [
    "def bow(sentence, words,show_details=False):\n",
    "    sentence_words=clean_up_sentence(sentence)\n",
    "    bag=[0]*len(words)\n",
    "    for s in sentence_words:\n",
    "        for i,w in enumerate(words):\n",
    "            if w==s:\n",
    "                bag[i]=1\n",
    "                if show_details:\n",
    "                    print (\"found in bag: %s\" % w)\n",
    "    return(np.array(bag))                "
   ]
  },
  {
   "cell_type": "code",
   "execution_count": 35,
   "metadata": {},
   "outputs": [
    {
     "data": {
      "text/plain": [
       "array([0, 0, 0, 0, 0, 0, 0, 0, 0, 0, 0, 0, 0, 0, 0, 0, 0, 0, 0, 0, 0, 0, 0,\n",
       "       0, 0, 0, 0, 0, 0, 0, 0, 0, 0, 0, 0, 0, 0, 0, 0, 0, 0, 0, 0, 0, 0, 0,\n",
       "       0, 0, 0, 0, 0, 0, 0, 0, 0, 0, 0, 0, 0, 0, 0, 0, 0, 0, 0, 0, 0, 0, 0,\n",
       "       0, 0, 0, 0, 0, 0, 0, 0, 0, 0, 0, 0, 0, 0, 0, 0, 0, 0, 0, 0, 0, 0, 0,\n",
       "       0, 0, 0, 0, 0, 0, 0, 0, 0, 0, 0, 0, 0, 0, 0, 0, 0, 0, 0, 0, 0, 0, 0,\n",
       "       0, 0, 0, 0, 0, 0, 0, 0, 0, 0, 0, 0, 0, 0, 0, 0, 0, 0, 0, 0, 0, 0, 0,\n",
       "       0, 0, 0, 0, 0, 0, 0, 0, 0, 0, 0, 0, 0, 0, 0, 0, 0, 0, 0, 0, 0, 0, 0,\n",
       "       0, 0, 0, 0, 0, 0, 0, 0, 0, 0, 0, 0, 0, 0, 0, 0, 0, 0, 0, 0, 0, 0, 0,\n",
       "       0, 0, 0, 0, 0, 0, 0, 0, 0, 0, 0, 0, 0, 0, 0, 0, 0, 0, 0, 0, 0, 0, 0,\n",
       "       0, 0, 0, 0, 0, 0, 0, 0, 0, 0, 0, 0, 0, 0, 0, 0, 0, 0, 0, 0, 0, 0, 0,\n",
       "       0, 0, 0, 0, 0, 0, 0, 0, 0, 0, 0, 0, 0, 0, 0, 0, 0, 0, 0, 0])"
      ]
     },
     "execution_count": 35,
     "metadata": {},
     "output_type": "execute_result"
    }
   ],
   "source": [
    "bow(\"How was you\",words,True)"
   ]
  },
  {
   "cell_type": "code",
   "execution_count": null,
   "metadata": {
    "collapsed": true
   },
   "outputs": [],
   "source": []
  },
  {
   "cell_type": "code",
   "execution_count": 36,
   "metadata": {
    "collapsed": true
   },
   "outputs": [],
   "source": [
    "def think(sentence,show_details=False):\n",
    "    x= bow(sentence.lower(),words,show_details)\n",
    "    if show_details:\n",
    "        print (\"sentence:\", sentence, \"\\n bow:\", x)\n",
    "        \n",
    "    l0=x\n",
    "    l1=sigmoid(np.dot(l0, synapse_0))\n",
    "    l2=sigmoid(np.dot(l1, synapse_1))\n",
    "    return l2\n",
    "    "
   ]
  },
  {
   "cell_type": "code",
   "execution_count": 37,
   "metadata": {
    "collapsed": true
   },
   "outputs": [],
   "source": [
    "def train(X, y,hidden_neurons=10,alpha=1 , epochs=50000, dropout=False, dropout_percent=.5):\n",
    "    print (\"Training with %s neurons, alpha:%s, dropout:%s %s\" % (hidden_neurons, str(alpha), dropout, dropout_percent if dropout else '') )\n",
    "    print (\"Input matrix: %sx%s    Output matrix: %sx%s\" % (len(X),len(X[0]),1, len(classes)) )\n",
    "    np.random.seed(1)\n",
    "    last_mean_error=1\n",
    "    synapse_0=2*np.random.random((len(X[0]),hidden_neurons))-1\n",
    "    synapse_1=2*np.random.random((hidden_neurons,len(classes)))-1\n",
    "    \n",
    "    prev_synapse_0_weight_update = np.zeros_like(synapse_0)\n",
    "    prev_synapse_1_weight_update = np.zeros_like(synapse_1)\n",
    "    \n",
    "    synapse_0_direction_count = np.zeros_like(synapse_0)\n",
    "    synapse_1_direction_count = np.zeros_like(synapse_1)\n",
    "    \n",
    "    for j in iter(range(epochs+1)):\n",
    "        layer_0=X\n",
    "        layer_1=sigmoid(np.dot(layer_0, synapse_0))\n",
    "        \n",
    "        if dropout:\n",
    "            layer_1*=np.random.binomial([np.ones((len(X),hidden_neurons))],1-dropout_percent)[0] * (1.0/(1-dropout_percent))\n",
    "            \n",
    "        layer_2=sigmoid(np.dot(layer_1, synapse_1))\n",
    "        \n",
    "        \n",
    "        \n",
    "        layer_2_error = y - layer_2\n",
    "        \n",
    "        if (j% 10000) == 0 and j > 5000:\n",
    "            \n",
    "            if np.mean(np.abs(layer_2_error)) < last_mean_error:\n",
    "                print (\"delta after \"+str(j)+\" iterations:\" + str(np.mean(np.abs(layer_2_error))) )\n",
    "                last_mean_error = np.mean(np.abs(layer_2_error))\n",
    "            else:\n",
    "                print (\"break:\", np.mean(np.abs(layer_2_error)), \">\", last_mean_error )\n",
    "                break\n",
    "                \n",
    "        layer_2_delta = layer_2_error * sigmoid_output_to_devivative(layer_2)\n",
    "        \n",
    "        layer_1_error = layer_2_delta.dot(synapse_1.T)\n",
    "        \n",
    "        layer_1_delta = layer_1_error * sigmoid_output_to_devivative(layer_1)\n",
    "        \n",
    "        synapse_1_weight_update = (layer_1.T.dot(layer_2_delta))\n",
    "        synapse_0_weight_update = (layer_0.T.dot(layer_1_delta))\n",
    "        \n",
    "        if(j > 0):\n",
    "            synapse_0_direction_count += np.abs(((synapse_0_weight_update > 0)+0) - ((prev_synapse_0_weight_update > 0) + 0))\n",
    "            synapse_1_direction_count += np.abs(((synapse_1_weight_update > 0)+0) - ((prev_synapse_1_weight_update > 0) + 0))\n",
    "            \n",
    "        \n",
    "        synapse_1 += alpha * synapse_1_weight_update\n",
    "        synapse_0 += alpha * synapse_0_weight_update\n",
    "        \n",
    "        prev_synapse_0_weight_update = synapse_0_weight_update\n",
    "        prev_synapse_1_weight_update = synapse_1_weight_update\n",
    "        \n",
    "    now = datetime.datetime.now()\n",
    "\n",
    "   \n",
    "    synapse = {'synapse0': synapse_0.tolist(), 'synapse1': synapse_1.tolist(),\n",
    "               'datetime': now.strftime(\"%Y-%m-%d %H:%M\"),\n",
    "               'words': words,\n",
    "               'classes': classes\n",
    "              }\n",
    "    synapse_file = \"synapses.json\"\n",
    "\n",
    "    with open(synapse_file, 'w') as outfile:\n",
    "        json.dump(synapse, outfile, indent=4, sort_keys=True)\n",
    "    print (\"saved synapses to:\", synapse_file)\n",
    "        \n",
    "        "
   ]
  },
  {
   "cell_type": "code",
   "execution_count": 38,
   "metadata": {
    "scrolled": true
   },
   "outputs": [
    {
     "name": "stdout",
     "output_type": "stream",
     "text": [
      "Training with 20 neurons, alpha:0.01, dropout:False \n",
      "Input matrix: 120x250    Output matrix: 1x5\n",
      "delta after 10000 iterations:0.00904285276015\n",
      "delta after 20000 iterations:0.00577337536253\n",
      "delta after 30000 iterations:0.00450580512238\n",
      "delta after 40000 iterations:0.0037972058958\n",
      "delta after 50000 iterations:0.00333271976754\n",
      "delta after 60000 iterations:0.00299946674401\n",
      "delta after 70000 iterations:0.00274598668459\n",
      "delta after 80000 iterations:0.00254512978317\n",
      "delta after 90000 iterations:0.00238107791696\n",
      "delta after 100000 iterations:0.00224392576011\n",
      "saved synapses to: synapses.json\n",
      "processing time: 36.62900185585022 seconds\n"
     ]
    }
   ],
   "source": [
    "X = np.array(training)\n",
    "y = np.array(output)\n",
    "\n",
    "start_time = time.time()\n",
    "\n",
    "train(X, y, hidden_neurons=20, alpha=0.01, epochs=100000, dropout=False, dropout_percent=0.2)\n",
    "\n",
    "elapsed_time = time.time() - start_time\n",
    "print (\"processing time:\", elapsed_time, \"seconds\")"
   ]
  },
  {
   "cell_type": "code",
   "execution_count": 42,
   "metadata": {},
   "outputs": [
    {
     "name": "stdout",
     "output_type": "stream",
     "text": [
      "suffering from high temperature \n",
      " classification: [['Viral Fever', 0.98268851837362847]]\n",
      "\n"
     ]
    }
   ],
   "source": [
    "ERROR_THRESHOLD = 0.2\n",
    "# load calculated values\n",
    "synapse_file = 'synapses.json' \n",
    "with open(synapse_file) as data_file: \n",
    "    synapse = json.load(data_file) \n",
    "    synapse_0 = np.asarray(synapse['synapse0']) \n",
    "    synapse_1 = np.asarray(synapse['synapse1'])\n",
    "\n",
    "def classify(sentence, show_details=False):\n",
    "    results = think(sentence, show_details)\n",
    "\n",
    "    results = [[i,r] for i,r in enumerate(results) if r>ERROR_THRESHOLD ] \n",
    "    results.sort(key=lambda x: x[1], reverse=True) \n",
    "    return_results =[[classes[r[0]],r[1]] for r in results]\n",
    "    print (\"%s \\n classification: %s\" % (sentence, return_results))\n",
    "    return return_results\n",
    "\n",
    "classify(\"suffering from high temperature\")\n",
    "# classify(\"how are you today?\")\n",
    "# classify(\"talk to you tomorrow\")\n",
    "# classify(\"who are you?\")\n",
    "# classify(\"make me some lunch\")\n",
    "# classify(\"how was your lunch today?\")\n",
    "print()\n",
    "# classify(\"good day\", show_details=True)"
   ]
  },
  {
   "cell_type": "code",
   "execution_count": 40,
   "metadata": {},
   "outputs": [
    {
     "name": "stdout",
     "output_type": "stream",
     "text": [
      "how are you \n",
      " classification: []\n"
     ]
    },
    {
     "data": {
      "text/plain": [
       "[]"
      ]
     },
     "execution_count": 40,
     "metadata": {},
     "output_type": "execute_result"
    }
   ],
   "source": [
    "classify(\"how are you\")"
   ]
  },
  {
   "cell_type": "code",
   "execution_count": 41,
   "metadata": {},
   "outputs": [
    {
     "name": "stdout",
     "output_type": "stream",
     "text": [
      "Thank you \n",
      " classification: []\n"
     ]
    },
    {
     "data": {
      "text/plain": [
       "[]"
      ]
     },
     "execution_count": 41,
     "metadata": {},
     "output_type": "execute_result"
    }
   ],
   "source": [
    "classify(\"Thank you\")"
   ]
  },
  {
   "cell_type": "code",
   "execution_count": null,
   "metadata": {
    "collapsed": true
   },
   "outputs": [],
   "source": []
  }
 ],
 "metadata": {
  "kernelspec": {
   "display_name": "Python 3",
   "language": "python",
   "name": "python3"
  },
  "language_info": {
   "codemirror_mode": {
    "name": "ipython",
    "version": 3
   },
   "file_extension": ".py",
   "mimetype": "text/x-python",
   "name": "python",
   "nbconvert_exporter": "python",
   "pygments_lexer": "ipython3",
   "version": "3.6.3"
  }
 },
 "nbformat": 4,
 "nbformat_minor": 2
}
